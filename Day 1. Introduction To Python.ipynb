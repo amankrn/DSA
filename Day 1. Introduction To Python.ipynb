{
 "cells": [
  {
   "cell_type": "markdown",
   "id": "f1148c28",
   "metadata": {},
   "source": [
    "## Q.1\n",
    "You are given a String str. Return the String by Concatenating it with String \"Hello, \" and an exclamation mark at the end “!”."
   ]
  },
  {
   "cell_type": "code",
   "execution_count": null,
   "id": "a04e8f70",
   "metadata": {},
   "outputs": [],
   "source": [
    "\"\"\"\n",
    "Input:\n",
    "    \"Mac\"\n",
    "Output:\n",
    "    \"Hello, Mac!\"\n",
    "Explanation:\n",
    "    Given a String, Mac is Concatenated with string \"Hello, \" at the beginning and \"!\" at the end\n",
    "\"\"\""
   ]
  },
  {
   "cell_type": "code",
   "execution_count": 1,
   "id": "d537b947",
   "metadata": {},
   "outputs": [
    {
     "data": {
      "text/plain": [
       "'Hello, aman!'"
      ]
     },
     "execution_count": 1,
     "metadata": {},
     "output_type": "execute_result"
    }
   ],
   "source": [
    "def solve(str):\n",
    "    # CODE HERE\n",
    "    return \"Hello, \"+str+\"!\"\n",
    "\n",
    "solve(\"aman\")"
   ]
  },
  {
   "cell_type": "markdown",
   "id": "de7b33fc",
   "metadata": {},
   "source": [
    "## Q.2\n",
    "You are given two integers, a and b.\n",
    "Compute the Sum and Difference of a and b. Return the Product of Sum and Difference."
   ]
  },
  {
   "cell_type": "code",
   "execution_count": null,
   "id": "b33f0f47",
   "metadata": {},
   "outputs": [],
   "source": [
    "\"\"\"\n",
    "Input:\n",
    "    5\n",
    "    2\n",
    "Output:\n",
    "    21\n",
    "Explanation:\n",
    "    Sum is (5 + 2)  = 7 and Difference is (5 - 2) = 3. The product of Sum and Difference is 21.\n",
    "\"\"\""
   ]
  },
  {
   "cell_type": "code",
   "execution_count": 2,
   "id": "80d099e3",
   "metadata": {},
   "outputs": [
    {
     "data": {
      "text/plain": [
       "21"
      ]
     },
     "execution_count": 2,
     "metadata": {},
     "output_type": "execute_result"
    }
   ],
   "source": [
    "def solve(a, b):\n",
    "    # CODE HERE\n",
    "    return (a+b)*(a-b)\n",
    "\n",
    "solve(5,2)"
   ]
  },
  {
   "cell_type": "markdown",
   "id": "398af4f4",
   "metadata": {},
   "source": [
    "## Q.3\n",
    "You are given two integers, a and b.\n",
    "\n",
    "Let x be the integer division and y be the decimal(float) division of a and b.\n",
    "\n",
    "Return the product of x and y."
   ]
  },
  {
   "cell_type": "code",
   "execution_count": null,
   "id": "f95cda48",
   "metadata": {},
   "outputs": [],
   "source": [
    "\"\"\"\n",
    "Input:\n",
    "    21\n",
    "    5\n",
    "Output:\n",
    "    16.8\n",
    "Explanation:\n",
    "    The int and float value of 21 / 5 is 4 and 4.2 respectively. The product is 16.8\n",
    "\"\"\""
   ]
  },
  {
   "cell_type": "code",
   "execution_count": 1,
   "id": "1eaab588",
   "metadata": {},
   "outputs": [
    {
     "data": {
      "text/plain": [
       "16.8"
      ]
     },
     "execution_count": 1,
     "metadata": {},
     "output_type": "execute_result"
    }
   ],
   "source": [
    "def solve(a, b):\n",
    "    # CODE HERE\n",
    "    return (a//b)*(a/b)\n",
    "\n",
    "solve(21,5)"
   ]
  },
  {
   "cell_type": "code",
   "execution_count": null,
   "id": "ec64e03d",
   "metadata": {},
   "outputs": [],
   "source": []
  }
 ],
 "metadata": {
  "kernelspec": {
   "display_name": "Python 3 (ipykernel)",
   "language": "python",
   "name": "python3"
  },
  "language_info": {
   "codemirror_mode": {
    "name": "ipython",
    "version": 3
   },
   "file_extension": ".py",
   "mimetype": "text/x-python",
   "name": "python",
   "nbconvert_exporter": "python",
   "pygments_lexer": "ipython3",
   "version": "3.9.13"
  }
 },
 "nbformat": 4,
 "nbformat_minor": 5
}
