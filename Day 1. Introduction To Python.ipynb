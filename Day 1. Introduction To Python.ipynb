{
 "cells": [
  {
   "cell_type": "markdown",
   "id": "f1148c28",
   "metadata": {},
   "source": [
    "## 1\n",
    "You are given a String str. Return the String by Concatenating it with String \"Hello, \" and an exclamation mark at the end “!”."
   ]
  },
  {
   "cell_type": "code",
   "execution_count": 1,
   "id": "d537b947",
   "metadata": {},
   "outputs": [
    {
     "data": {
      "text/plain": [
       "'Hello, aman!'"
      ]
     },
     "execution_count": 1,
     "metadata": {},
     "output_type": "execute_result"
    }
   ],
   "source": [
    "def solve(str):\n",
    "    # CODE HERE\n",
    "    return \"Hello, \"+str+\"!\"\n",
    "\n",
    "solve(\"aman\")"
   ]
  },
  {
   "cell_type": "markdown",
   "id": "de7b33fc",
   "metadata": {},
   "source": [
    "## 2\n",
    "You are given two integers, a and b.\n",
    "Compute the Sum and Difference of a and b. Return the Product of Sum and Difference."
   ]
  },
  {
   "cell_type": "code",
   "execution_count": 3,
   "id": "80d099e3",
   "metadata": {},
   "outputs": [
    {
     "data": {
      "text/plain": [
       "16"
      ]
     },
     "execution_count": 3,
     "metadata": {},
     "output_type": "execute_result"
    }
   ],
   "source": [
    "def solve(a, b):\n",
    "    # CODE HERE\n",
    "    return (a+b)*(a-b)\n",
    "\n",
    "solve(5,3)"
   ]
  },
  {
   "cell_type": "markdown",
   "id": "398af4f4",
   "metadata": {},
   "source": [
    "## 3\n",
    "You are given two integers, a and b.\n",
    "\n",
    "Let x be the integer division and y be the decimal(float) division of a and b.\n",
    "\n",
    "Return the product of x and y."
   ]
  },
  {
   "cell_type": "code",
   "execution_count": 5,
   "id": "1eaab588",
   "metadata": {},
   "outputs": [
    {
     "data": {
      "text/plain": [
       "4.0"
      ]
     },
     "execution_count": 5,
     "metadata": {},
     "output_type": "execute_result"
    }
   ],
   "source": [
    "def solve(a, b):\n",
    "    # CODE HERE\n",
    "    return (a//b)*(a/b)\n",
    "\n",
    "solve(6,3)"
   ]
  },
  {
   "cell_type": "code",
   "execution_count": null,
   "id": "ec64e03d",
   "metadata": {},
   "outputs": [],
   "source": []
  }
 ],
 "metadata": {
  "kernelspec": {
   "display_name": "Python 3 (ipykernel)",
   "language": "python",
   "name": "python3"
  },
  "language_info": {
   "codemirror_mode": {
    "name": "ipython",
    "version": 3
   },
   "file_extension": ".py",
   "mimetype": "text/x-python",
   "name": "python",
   "nbconvert_exporter": "python",
   "pygments_lexer": "ipython3",
   "version": "3.10.9"
  }
 },
 "nbformat": 4,
 "nbformat_minor": 5
}
