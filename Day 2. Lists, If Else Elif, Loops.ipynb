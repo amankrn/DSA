{
 "cells": [
  {
   "cell_type": "markdown",
   "id": "02d409ae",
   "metadata": {},
   "source": [
    "## Q.1\n",
    "\n",
    "Given an array arr of size n, and two intervals x and y. Find the average of elements which lies between the given intervals inclusively.\n"
   ]
  },
  {
   "cell_type": "code",
   "execution_count": null,
   "id": "b6a362a8",
   "metadata": {},
   "outputs": [],
   "source": [
    "\"\"\"Input:\n",
    "    6\n",
    "    6 2 5 4 3 1\n",
    "    2\n",
    "    5\n",
    "Output:\n",
    "    3.25\n",
    "Explanation:\n",
    "    The elements between indices 2 and 5 are 5, 4, 3 and 1. The Average is: \n",
    "         (5 + 4 + 3 + 1) / 4 = 3.25\"\"\"\n"
   ]
  },
  {
   "cell_type": "code",
   "execution_count": 42,
   "id": "82283c55",
   "metadata": {},
   "outputs": [
    {
     "data": {
      "text/plain": [
       "3.25"
      ]
     },
     "execution_count": 42,
     "metadata": {},
     "output_type": "execute_result"
    }
   ],
   "source": [
    "def solve(n, arr, x, y):\n",
    "    # CODE HERE\n",
    "    sum=0\n",
    "    for i in range(x,y+1):\n",
    "        sum+=arr[i]\n",
    "    return (sum/(y-x+1))\n",
    "\n",
    "solve(6,[6,2,5,4,3,1],2,5)"
   ]
  },
  {
   "cell_type": "markdown",
   "id": "5b82c992",
   "metadata": {},
   "source": [
    "## Q2.\n",
    "Given a string str1, Return the array containing the frequency of each character in the order of their occurrence."
   ]
  },
  {
   "cell_type": "code",
   "execution_count": null,
   "id": "19b09e5c",
   "metadata": {},
   "outputs": [],
   "source": [
    "\"\"\"\n",
    "Input:\n",
    "    arfardarb\n",
    "Output:\n",
    "    3 3 1 1 1\n",
    "Explanation:\n",
    "    a is repeated 3 times, followed by r which is repeated 3 times. f, d and b occurs only 1 time.\n",
    "\"\"\""
   ]
  },
  {
   "cell_type": "code",
   "execution_count": null,
   "id": "5d97dfbc",
   "metadata": {},
   "outputs": [],
   "source": [
    "def solve(str1):\n",
    "    # CODE HERE\n",
    "    li=[]\n",
    "    cs=[]\n",
    "    for i in str1:\n",
    "        if(i in cs):\n",
    "            continue\n",
    "        else:\n",
    "            count=0\n",
    "            for j in str1:\n",
    "                if(i==j):\n",
    "                    count+=1\n",
    "            cs.append(i)\n",
    "            li.append(count)\n",
    "    return li\n",
    "\n",
    "solve(\"arfardarb\")"
   ]
  },
  {
   "cell_type": "markdown",
   "id": "fe3ad922",
   "metadata": {},
   "source": [
    "## Q3.\n",
    "Given a Positive Integer n, return an array of string containing the palindromic string of intergers."
   ]
  },
  {
   "cell_type": "code",
   "execution_count": null,
   "id": "2602c000",
   "metadata": {},
   "outputs": [],
   "source": [
    "\"\"\"\n",
    "Input:\n",
    "    5\n",
    "Output:\n",
    "    1\n",
    "    121\n",
    "    12321\n",
    "    1234321\n",
    "    123454321\n",
    "Explanation:\n",
    "    The size of staircase is 5. So you have to generate string of integers \n",
    "    in such a way that it is palindromic. \n",
    "\"\"\""
   ]
  },
  {
   "cell_type": "code",
   "execution_count": null,
   "id": "a303cb7c",
   "metadata": {},
   "outputs": [],
   "source": [
    "def solve(n):\n",
    "    # CODE HERE\n",
    "    li = []\n",
    "    s=\"\"\n",
    "    for i in range(1,n+1):\n",
    "        s += str(i)\n",
    "        li.append(s+s[-2::-1])\n",
    "    return li\n",
    "    \n",
    "solve(5)"
   ]
  },
  {
   "cell_type": "code",
   "execution_count": null,
   "id": "a7915e52",
   "metadata": {},
   "outputs": [],
   "source": []
  }
 ],
 "metadata": {
  "kernelspec": {
   "display_name": "Python 3 (ipykernel)",
   "language": "python",
   "name": "python3"
  },
  "language_info": {
   "codemirror_mode": {
    "name": "ipython",
    "version": 3
   },
   "file_extension": ".py",
   "mimetype": "text/x-python",
   "name": "python",
   "nbconvert_exporter": "python",
   "pygments_lexer": "ipython3",
   "version": "3.10.9"
  }
 },
 "nbformat": 4,
 "nbformat_minor": 5
}
